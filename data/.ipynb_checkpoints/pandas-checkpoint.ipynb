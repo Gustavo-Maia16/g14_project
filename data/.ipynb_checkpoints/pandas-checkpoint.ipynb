{
 "cells": [
  {
   "cell_type": "code",
   "execution_count": 51,
   "id": "450dca8f-f7c8-4c27-baa7-4dcec3a5789b",
   "metadata": {},
   "outputs": [],
   "source": [
    "import pandas as pd"
   ]
  },
  {
   "cell_type": "code",
   "execution_count": 52,
   "id": "17d186c9-13ee-4ce7-a091-9024d0996ce9",
   "metadata": {},
   "outputs": [],
   "source": [
    "df = pd.read_csv('g14_event_management_events_attendees_with_venues_merged.csv', delimiter=';')"
   ]
  },
  {
   "cell_type": "code",
   "execution_count": 53,
   "id": "94f4fb59-6a91-46cd-be9d-14647a97c86a",
   "metadata": {},
   "outputs": [
    {
     "data": {
      "text/html": [
       "<div>\n",
       "<style scoped>\n",
       "    .dataframe tbody tr th:only-of-type {\n",
       "        vertical-align: middle;\n",
       "    }\n",
       "\n",
       "    .dataframe tbody tr th {\n",
       "        vertical-align: top;\n",
       "    }\n",
       "\n",
       "    .dataframe thead th {\n",
       "        text-align: right;\n",
       "    }\n",
       "</style>\n",
       "<table border=\"1\" class=\"dataframe\">\n",
       "  <thead>\n",
       "    <tr style=\"text-align: right;\">\n",
       "      <th></th>\n",
       "      <th>events_id</th>\n",
       "      <th>attendee_id</th>\n",
       "      <th>registration_date</th>\n",
       "      <th>seat</th>\n",
       "      <th>event_name</th>\n",
       "      <th>location</th>\n",
       "      <th>event_date</th>\n",
       "      <th>venues_id</th>\n",
       "      <th>attendee_name</th>\n",
       "      <th>email</th>\n",
       "      <th>ticket_type</th>\n",
       "      <th>venue_name</th>\n",
       "      <th>capacity</th>\n",
       "    </tr>\n",
       "  </thead>\n",
       "  <tbody>\n",
       "    <tr>\n",
       "      <th>0</th>\n",
       "      <td>498</td>\n",
       "      <td>639</td>\n",
       "      <td>14/01/2025</td>\n",
       "      <td>p</td>\n",
       "      <td>final</td>\n",
       "      <td>Carriechester</td>\n",
       "      <td>06/02/2025</td>\n",
       "      <td>19</td>\n",
       "      <td>Veronica Herman</td>\n",
       "      <td>dianavillanueva@example.com</td>\n",
       "      <td>Regular</td>\n",
       "      <td>Jackson Ltd</td>\n",
       "      <td>544</td>\n",
       "    </tr>\n",
       "    <tr>\n",
       "      <th>1</th>\n",
       "      <td>189</td>\n",
       "      <td>355</td>\n",
       "      <td>07/01/2025</td>\n",
       "      <td>N</td>\n",
       "      <td>reach</td>\n",
       "      <td>Christopherhaven</td>\n",
       "      <td>01/02/2025</td>\n",
       "      <td>8</td>\n",
       "      <td>Nicole Johnson</td>\n",
       "      <td>nguyenrachel@example.com</td>\n",
       "      <td>Regular</td>\n",
       "      <td>Humphrey and Sons</td>\n",
       "      <td>169</td>\n",
       "    </tr>\n",
       "    <tr>\n",
       "      <th>2</th>\n",
       "      <td>313</td>\n",
       "      <td>350</td>\n",
       "      <td>29/01/2025</td>\n",
       "      <td>V</td>\n",
       "      <td>must</td>\n",
       "      <td>New Ericview</td>\n",
       "      <td>10/02/2025</td>\n",
       "      <td>17</td>\n",
       "      <td>Amanda Taylor</td>\n",
       "      <td>russellstephanie@example.org</td>\n",
       "      <td>VIP</td>\n",
       "      <td>Jones, Clark and Mckinney</td>\n",
       "      <td>245</td>\n",
       "    </tr>\n",
       "    <tr>\n",
       "      <th>3</th>\n",
       "      <td>386</td>\n",
       "      <td>654</td>\n",
       "      <td>26/01/2025</td>\n",
       "      <td>p</td>\n",
       "      <td>Congress</td>\n",
       "      <td>North Dylan</td>\n",
       "      <td>02/02/2025</td>\n",
       "      <td>6</td>\n",
       "      <td>Emily Nelson</td>\n",
       "      <td>alyssacoleman@example.com</td>\n",
       "      <td>Regular</td>\n",
       "      <td>Ward PLC</td>\n",
       "      <td>742</td>\n",
       "    </tr>\n",
       "    <tr>\n",
       "      <th>4</th>\n",
       "      <td>51</td>\n",
       "      <td>1063</td>\n",
       "      <td>12/01/2025</td>\n",
       "      <td>m</td>\n",
       "      <td>four</td>\n",
       "      <td>Greenborough</td>\n",
       "      <td>02/02/2025</td>\n",
       "      <td>11</td>\n",
       "      <td>Heidi Hill</td>\n",
       "      <td>nsmith@example.net</td>\n",
       "      <td>VIP</td>\n",
       "      <td>Lee, Erickson and Velez</td>\n",
       "      <td>990</td>\n",
       "    </tr>\n",
       "    <tr>\n",
       "      <th>5</th>\n",
       "      <td>93</td>\n",
       "      <td>1147</td>\n",
       "      <td>07/02/2025</td>\n",
       "      <td>H</td>\n",
       "      <td>tax</td>\n",
       "      <td>Ashleyburgh</td>\n",
       "      <td>19/02/2025</td>\n",
       "      <td>8</td>\n",
       "      <td>Angela Brown</td>\n",
       "      <td>mcleanjerry@example.com</td>\n",
       "      <td>VIP</td>\n",
       "      <td>Humphrey and Sons</td>\n",
       "      <td>169</td>\n",
       "    </tr>\n",
       "    <tr>\n",
       "      <th>6</th>\n",
       "      <td>140</td>\n",
       "      <td>1832</td>\n",
       "      <td>10/02/2025</td>\n",
       "      <td>J</td>\n",
       "      <td>operation</td>\n",
       "      <td>Hendersonborough</td>\n",
       "      <td>01/02/2025</td>\n",
       "      <td>5</td>\n",
       "      <td>Christopher Lee</td>\n",
       "      <td>ewood@example.org</td>\n",
       "      <td>Regular</td>\n",
       "      <td>Davis-Morgan</td>\n",
       "      <td>257</td>\n",
       "    </tr>\n",
       "    <tr>\n",
       "      <th>7</th>\n",
       "      <td>151</td>\n",
       "      <td>11</td>\n",
       "      <td>20/01/2025</td>\n",
       "      <td>D</td>\n",
       "      <td>available</td>\n",
       "      <td>Caldwellfurt</td>\n",
       "      <td>15/02/2025</td>\n",
       "      <td>5</td>\n",
       "      <td>Mr. Richard Campbell</td>\n",
       "      <td>farrellthomas@example.com</td>\n",
       "      <td>VIP</td>\n",
       "      <td>Davis-Morgan</td>\n",
       "      <td>257</td>\n",
       "    </tr>\n",
       "    <tr>\n",
       "      <th>8</th>\n",
       "      <td>311</td>\n",
       "      <td>678</td>\n",
       "      <td>05/01/2025</td>\n",
       "      <td>C</td>\n",
       "      <td>also</td>\n",
       "      <td>East Andrewborough</td>\n",
       "      <td>07/01/2025</td>\n",
       "      <td>11</td>\n",
       "      <td>Alexander Thornton</td>\n",
       "      <td>lauren06@example.com</td>\n",
       "      <td>VIP</td>\n",
       "      <td>Lee, Erickson and Velez</td>\n",
       "      <td>990</td>\n",
       "    </tr>\n",
       "    <tr>\n",
       "      <th>9</th>\n",
       "      <td>312</td>\n",
       "      <td>1075</td>\n",
       "      <td>08/01/2025</td>\n",
       "      <td>x</td>\n",
       "      <td>detail</td>\n",
       "      <td>Port Heather</td>\n",
       "      <td>20/02/2025</td>\n",
       "      <td>7</td>\n",
       "      <td>Kristy Blake</td>\n",
       "      <td>wilsontaylor@example.org</td>\n",
       "      <td>Regular</td>\n",
       "      <td>Webb PLC</td>\n",
       "      <td>551</td>\n",
       "    </tr>\n",
       "    <tr>\n",
       "      <th>10</th>\n",
       "      <td>410</td>\n",
       "      <td>334</td>\n",
       "      <td>07/01/2025</td>\n",
       "      <td>W</td>\n",
       "      <td>as</td>\n",
       "      <td>Port Christinamouth</td>\n",
       "      <td>05/01/2025</td>\n",
       "      <td>14</td>\n",
       "      <td>Elizabeth Jones</td>\n",
       "      <td>tami47@example.org</td>\n",
       "      <td>VIP</td>\n",
       "      <td>Dunn, Cooper and Gross</td>\n",
       "      <td>988</td>\n",
       "    </tr>\n",
       "    <tr>\n",
       "      <th>11</th>\n",
       "      <td>192</td>\n",
       "      <td>1052</td>\n",
       "      <td>02/02/2025</td>\n",
       "      <td>K</td>\n",
       "      <td>soldier</td>\n",
       "      <td>Port Amandachester</td>\n",
       "      <td>09/02/2025</td>\n",
       "      <td>10</td>\n",
       "      <td>John Miller</td>\n",
       "      <td>torresshane@example.net</td>\n",
       "      <td>Regular</td>\n",
       "      <td>Wright LLC</td>\n",
       "      <td>289</td>\n",
       "    </tr>\n",
       "    <tr>\n",
       "      <th>12</th>\n",
       "      <td>498</td>\n",
       "      <td>360</td>\n",
       "      <td>07/02/2025</td>\n",
       "      <td>r</td>\n",
       "      <td>final</td>\n",
       "      <td>Carriechester</td>\n",
       "      <td>06/02/2025</td>\n",
       "      <td>19</td>\n",
       "      <td>Lisa Walker</td>\n",
       "      <td>glong@example.org</td>\n",
       "      <td>VIP</td>\n",
       "      <td>Jackson Ltd</td>\n",
       "      <td>544</td>\n",
       "    </tr>\n",
       "  </tbody>\n",
       "</table>\n",
       "</div>"
      ],
      "text/plain": [
       "    events_id  attendee_id registration_date seat event_name  \\\n",
       "0         498          639        14/01/2025    p      final   \n",
       "1         189          355        07/01/2025    N      reach   \n",
       "2         313          350        29/01/2025    V       must   \n",
       "3         386          654        26/01/2025    p   Congress   \n",
       "4          51         1063        12/01/2025    m       four   \n",
       "5          93         1147        07/02/2025    H        tax   \n",
       "6         140         1832        10/02/2025    J  operation   \n",
       "7         151           11        20/01/2025    D  available   \n",
       "8         311          678        05/01/2025    C       also   \n",
       "9         312         1075        08/01/2025    x     detail   \n",
       "10        410          334        07/01/2025    W         as   \n",
       "11        192         1052        02/02/2025    K    soldier   \n",
       "12        498          360        07/02/2025    r      final   \n",
       "\n",
       "               location  event_date  venues_id         attendee_name  \\\n",
       "0         Carriechester  06/02/2025         19       Veronica Herman   \n",
       "1      Christopherhaven  01/02/2025          8        Nicole Johnson   \n",
       "2          New Ericview  10/02/2025         17         Amanda Taylor   \n",
       "3           North Dylan  02/02/2025          6          Emily Nelson   \n",
       "4          Greenborough  02/02/2025         11            Heidi Hill   \n",
       "5           Ashleyburgh  19/02/2025          8          Angela Brown   \n",
       "6      Hendersonborough  01/02/2025          5       Christopher Lee   \n",
       "7          Caldwellfurt  15/02/2025          5  Mr. Richard Campbell   \n",
       "8    East Andrewborough  07/01/2025         11    Alexander Thornton   \n",
       "9          Port Heather  20/02/2025          7          Kristy Blake   \n",
       "10  Port Christinamouth  05/01/2025         14       Elizabeth Jones   \n",
       "11   Port Amandachester  09/02/2025         10           John Miller   \n",
       "12        Carriechester  06/02/2025         19           Lisa Walker   \n",
       "\n",
       "                           email ticket_type                 venue_name  \\\n",
       "0    dianavillanueva@example.com     Regular                Jackson Ltd   \n",
       "1       nguyenrachel@example.com     Regular          Humphrey and Sons   \n",
       "2   russellstephanie@example.org         VIP  Jones, Clark and Mckinney   \n",
       "3      alyssacoleman@example.com     Regular                   Ward PLC   \n",
       "4             nsmith@example.net         VIP    Lee, Erickson and Velez   \n",
       "5        mcleanjerry@example.com         VIP          Humphrey and Sons   \n",
       "6              ewood@example.org     Regular               Davis-Morgan   \n",
       "7      farrellthomas@example.com         VIP               Davis-Morgan   \n",
       "8           lauren06@example.com         VIP    Lee, Erickson and Velez   \n",
       "9       wilsontaylor@example.org     Regular                   Webb PLC   \n",
       "10            tami47@example.org         VIP     Dunn, Cooper and Gross   \n",
       "11       torresshane@example.net     Regular                 Wright LLC   \n",
       "12             glong@example.org         VIP                Jackson Ltd   \n",
       "\n",
       "    capacity  \n",
       "0        544  \n",
       "1        169  \n",
       "2        245  \n",
       "3        742  \n",
       "4        990  \n",
       "5        169  \n",
       "6        257  \n",
       "7        257  \n",
       "8        990  \n",
       "9        551  \n",
       "10       988  \n",
       "11       289  \n",
       "12       544  "
      ]
     },
     "execution_count": 53,
     "metadata": {},
     "output_type": "execute_result"
    }
   ],
   "source": [
    "df.head(13)"
   ]
  },
  {
   "cell_type": "code",
   "execution_count": 54,
   "id": "f830d0c2-0df4-47ba-8c84-b00aa4157642",
   "metadata": {},
   "outputs": [],
   "source": [
    "Events = df.loc[:,['events_id','event_name','event_date']]"
   ]
  },
  {
   "cell_type": "code",
   "execution_count": 55,
   "id": "75afc449-6266-4d38-83ec-13effc41c2a6",
   "metadata": {},
   "outputs": [],
   "source": [
    "Events.columns=['id', 'name', 'edate']"
   ]
  },
  {
   "cell_type": "code",
   "execution_count": 56,
   "id": "e964088d-369e-4a31-928d-37890e4fdb21",
   "metadata": {},
   "outputs": [],
   "source": [
    "Events['edate'] = pd.to_datetime(Events['edate'], format='%d/%m/%Y').dt.strftime('%Y-%m-%d')"
   ]
  },
  {
   "cell_type": "code",
   "execution_count": 57,
   "id": "77446640-e061-44d5-94d8-a3ea2b9a0c58",
   "metadata": {},
   "outputs": [],
   "source": [
    "Events.drop_duplicates(subset='id',inplace=True)"
   ]
  },
  {
   "cell_type": "code",
   "execution_count": 58,
   "id": "574e6222-a93b-4cbb-a204-e37e8440528f",
   "metadata": {},
   "outputs": [],
   "source": [
    "from sqlalchemy import create_engine"
   ]
  },
  {
   "cell_type": "code",
   "execution_count": 59,
   "id": "37d418d4-1e02-4434-a957-1424ef1817fb",
   "metadata": {},
   "outputs": [],
   "source": [
    "engine = create_engine('sqlite:///gestao_eventos.db')"
   ]
  },
  {
   "cell_type": "code",
   "execution_count": 60,
   "id": "c25e7df9-805c-42cb-9243-c74e4926b6c3",
   "metadata": {},
   "outputs": [
    {
     "data": {
      "text/plain": [
       "498"
      ]
     },
     "execution_count": 60,
     "metadata": {},
     "output_type": "execute_result"
    }
   ],
   "source": [
    "Events.to_sql('Events', con =engine, if_exists='replace', index=False)"
   ]
  },
  {
   "cell_type": "code",
   "execution_count": 61,
   "id": "5748060e-3bf9-4624-a31c-4d13711abffb",
   "metadata": {},
   "outputs": [],
   "source": [
    "Venue = df.loc[:,['venues_id','venue_name','location','capacity']]"
   ]
  },
  {
   "cell_type": "code",
   "execution_count": 62,
   "id": "c1f04c25-a9bd-493e-adb8-1905974d254f",
   "metadata": {},
   "outputs": [],
   "source": [
    "Venue.columns=['id', 'name', 'location', 'capacity']"
   ]
  },
  {
   "cell_type": "code",
   "execution_count": 63,
   "id": "d6b834df-2e18-4146-aeb4-2af57d2cb74b",
   "metadata": {},
   "outputs": [],
   "source": [
    "Venue.drop_duplicates(subset='id',inplace=True)"
   ]
  },
  {
   "cell_type": "code",
   "execution_count": 64,
   "id": "11e1ab03-e1ef-4d4f-8719-f9ada78e7834",
   "metadata": {},
   "outputs": [
    {
     "data": {
      "text/plain": [
       "20"
      ]
     },
     "execution_count": 64,
     "metadata": {},
     "output_type": "execute_result"
    }
   ],
   "source": [
    "Venue.to_sql('Venue', con =engine, if_exists='replace', index=False)"
   ]
  },
  {
   "cell_type": "code",
   "execution_count": 65,
   "id": "aea6d3db-5863-4e19-89d5-d4b5736b6927",
   "metadata": {},
   "outputs": [],
   "source": [
    "Attendees = df.loc[:,['attendee_id','attendee_name','email']]"
   ]
  },
  {
   "cell_type": "code",
   "execution_count": 66,
   "id": "f372fef8-87d0-428f-a06f-b7d01234180a",
   "metadata": {},
   "outputs": [],
   "source": [
    "Attendees.columns=['id', 'name', 'email']"
   ]
  },
  {
   "cell_type": "code",
   "execution_count": 67,
   "id": "3753cbf0-4730-4842-9100-ae45cccf2e88",
   "metadata": {},
   "outputs": [],
   "source": [
    "Attendees.drop_duplicates(subset='id',inplace=True)"
   ]
  },
  {
   "cell_type": "code",
   "execution_count": 68,
   "id": "e9d5f678-7827-469d-84fb-8b97ef6e37fb",
   "metadata": {},
   "outputs": [
    {
     "data": {
      "text/plain": [
       "1569"
      ]
     },
     "execution_count": 68,
     "metadata": {},
     "output_type": "execute_result"
    }
   ],
   "source": [
    "Attendees.to_sql('Attendees', con =engine, if_exists='replace', index=False)"
   ]
  },
  {
   "cell_type": "code",
   "execution_count": 69,
   "id": "a660dcf1-b724-4ca3-9050-62fdc5a0d607",
   "metadata": {},
   "outputs": [],
   "source": [
    "Registrations = df.loc[:,['registration_date','ticket_type','seat']]"
   ]
  },
  {
   "cell_type": "code",
   "execution_count": 70,
   "id": "ce13dc3e-38ac-4da2-810c-21a2dd0bd5a9",
   "metadata": {},
   "outputs": [],
   "source": [
    "Registrations.columns=['date', 'ticket_type', 'seat']"
   ]
  },
  {
   "cell_type": "code",
   "execution_count": 71,
   "id": "492c5f32-81a9-4dd0-af7e-ae48f720fa46",
   "metadata": {},
   "outputs": [],
   "source": [
    "Registrations.drop_duplicates(subset='seat',inplace=True)"
   ]
  },
  {
   "cell_type": "code",
   "execution_count": 72,
   "id": "d67c51da-f07c-4fe2-a745-b47aa1b80e4d",
   "metadata": {},
   "outputs": [],
   "source": [
    "Registrations.insert(0, 'id', range(1, len(Registrations) + 1))"
   ]
  },
  {
   "cell_type": "code",
   "execution_count": 73,
   "id": "19bf8afd-fa04-471b-8598-1085450133f1",
   "metadata": {},
   "outputs": [],
   "source": [
    "Registrations['date'] = pd.to_datetime(Registrations['date'], format='%d/%m/%Y').dt.strftime('%Y-%m-%d')"
   ]
  },
  {
   "cell_type": "code",
   "execution_count": 74,
   "id": "bf425baa-c5bc-4314-8880-589174ced1f0",
   "metadata": {},
   "outputs": [
    {
     "data": {
      "text/plain": [
       "52"
      ]
     },
     "execution_count": 74,
     "metadata": {},
     "output_type": "execute_result"
    }
   ],
   "source": [
    "Registrations.to_sql('Registrations', con =engine, if_exists='replace', index=False)"
   ]
  },
  {
   "cell_type": "code",
   "execution_count": 75,
   "id": "c6613448-edc2-40e7-8900-58aeff56c86a",
   "metadata": {},
   "outputs": [],
   "source": [
    "engine.dispose()"
   ]
  }
 ],
 "metadata": {
  "kernelspec": {
   "display_name": "Python 3 (ipykernel)",
   "language": "python",
   "name": "python3"
  },
  "language_info": {
   "codemirror_mode": {
    "name": "ipython",
    "version": 3
   },
   "file_extension": ".py",
   "mimetype": "text/x-python",
   "name": "python",
   "nbconvert_exporter": "python",
   "pygments_lexer": "ipython3",
   "version": "3.12.4"
  }
 },
 "nbformat": 4,
 "nbformat_minor": 5
}
